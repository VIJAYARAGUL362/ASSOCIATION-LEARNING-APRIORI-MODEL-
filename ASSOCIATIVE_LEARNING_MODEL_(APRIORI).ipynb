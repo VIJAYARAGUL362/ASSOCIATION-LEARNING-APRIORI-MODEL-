{
  "nbformat": 4,
  "nbformat_minor": 0,
  "metadata": {
    "colab": {
      "provenance": [],
      "mount_file_id": "1QUHGwam_8XyI0LGW5TJNOJ10PeEt0-wO",
      "authorship_tag": "ABX9TyMOL1pT3BT/S3zRsS4SFXBk",
      "include_colab_link": true
    },
    "kernelspec": {
      "name": "python3",
      "display_name": "Python 3"
    },
    "language_info": {
      "name": "python"
    }
  },
  "cells": [
    {
      "cell_type": "markdown",
      "metadata": {
        "id": "view-in-github",
        "colab_type": "text"
      },
      "source": [
        "<a href=\"https://colab.research.google.com/github/VIJAYARAGUL362/ASSOCIATION-LEARNING-APRIORI-MODEL-/blob/main/ASSOCIATIVE_LEARNING_MODEL_(APRIORI).ipynb\" target=\"_parent\"><img src=\"https://colab.research.google.com/assets/colab-badge.svg\" alt=\"Open In Colab\"/></a>"
      ]
    },
    {
      "cell_type": "markdown",
      "source": [
        "IMPORTING THE LIBRARY"
      ],
      "metadata": {
        "id": "JiCNZDf6ekte"
      }
    },
    {
      "cell_type": "code",
      "execution_count": null,
      "metadata": {
        "id": "9rIVLDIzecQb"
      },
      "outputs": [],
      "source": [
        "import pandas as pd\n",
        "import numpy as np\n",
        "import matplotlib.pyplot as plt\n",
        "! pip install apyori\n"
      ]
    },
    {
      "cell_type": "markdown",
      "source": [
        "IMPORTING THE DATASET"
      ],
      "metadata": {
        "id": "rZ97CRume0Gd"
      }
    },
    {
      "cell_type": "code",
      "execution_count": null,
      "metadata": {
        "id": "J_A-UFOAsaDf"
      },
      "outputs": [],
      "source": [
        "dataset = pd.read_csv('/content/drive/MyDrive/Machine Learning A-Z (Codes and Datasets)/Part 5 - Association Rule Learning/Section 28 - Apriori/Python/Market_Basket_Optimisation.csv', header = None)\n",
        "transactions = []\n",
        "for i in range(0, 7501):\n",
        "  transactions.append([str(dataset.values[i,j]) for j in range(0, 20)])\n",
        "\n"
      ]
    },
    {
      "cell_type": "code",
      "source": [
        "print(transactions)"
      ],
      "metadata": {
        "id": "TAxFamGMwx96"
      },
      "execution_count": null,
      "outputs": []
    },
    {
      "cell_type": "markdown",
      "source": [
        "TRAINING THE MODEL"
      ],
      "metadata": {
        "id": "t_6IPOploSBg"
      }
    },
    {
      "cell_type": "code",
      "source": [
        "from apyori import apriori\n",
        "rules=apriori(transactions=transactions,min_support=0.003,min_confidence=0.2,min_lift=3,min_length=2,max_length=2)\n",
        "print(rules)\n"
      ],
      "metadata": {
        "id": "qvzmsFPdsc9m"
      },
      "execution_count": null,
      "outputs": []
    },
    {
      "cell_type": "markdown",
      "source": [
        "VISUALIZING THE RESULT"
      ],
      "metadata": {
        "id": "fU9Zuzo-t-D9"
      }
    },
    {
      "cell_type": "code",
      "source": [
        "\n",
        "results=list(rules)\n",
        "results"
      ],
      "metadata": {
        "id": "kVtGSjI0uANr"
      },
      "execution_count": null,
      "outputs": []
    },
    {
      "cell_type": "markdown",
      "source": [
        "CONVERTING THIS INTO PANDA DATAFRAME"
      ],
      "metadata": {
        "id": "WNzFKy7Vxqwb"
      }
    },
    {
      "cell_type": "code",
      "execution_count": null,
      "metadata": {
        "id": "gyq7Poi0mMUe"
      },
      "outputs": [],
      "source": [
        "def inspect(results):\n",
        "    lhs         = [tuple(result[2][0][0])[0] for result in results]\n",
        "    rhs         = [tuple(result[2][0][1])[0] for result in results]\n",
        "    supports    = [result[1] for result in results]\n",
        "    confidences = [result[2][0][2] for result in results]\n",
        "    lifts       = [result[2][0][3] for result in results]\n",
        "    return list(zip(lhs, rhs, supports, confidences, lifts))\n",
        "resultsinDataFrame = pd.DataFrame(inspect(results), columns = ['Left Hand Side', 'Right Hand Side', 'Support', 'Confidence', 'Lift'])\n",
        "resultsinDataFrame"
      ]
    }
  ]
}